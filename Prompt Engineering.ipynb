{
 "cells": [
  {
   "cell_type": "code",
   "execution_count": 1,
   "id": "b675ac87",
   "metadata": {},
   "outputs": [],
   "source": [
    "import pandas as pd\n",
    "from sklearn.model_selection import train_test_split\n",
    "from sklearn.metrics import f1_score\n",
    "import torch\n",
    "from transformers import GPT2Tokenizer, GPT2LMHeadModel"
   ]
  },
  {
   "cell_type": "code",
   "execution_count": 2,
   "id": "566bccc6",
   "metadata": {},
   "outputs": [],
   "source": [
    "# Fake news/Real news dataset\n",
    "df_real = pd.read_csv('True.csv')\n",
    "df_real['RealNews'] = True\n",
    "df_fake = pd.read_csv('Fake.csv')\n",
    "df_fake['RealNews'] = False\n",
    "df_news = df_real.append(df_fake)"
   ]
  },
  {
   "cell_type": "code",
   "execution_count": 3,
   "id": "e7152f20",
   "metadata": {},
   "outputs": [],
   "source": [
    "# randomly select 50 rows of real news and 50 rows of fake news\n",
    "real_news = df_news[df_news['RealNews'] == True].sample(n=50)\n",
    "fake_news = df_news[df_news['RealNews'] == False].sample(n=50)\n",
    "\n",
    "# combine the two dataframes\n",
    "df = pd.concat([real_news, fake_news])\n",
    "\n",
    "# reset the index of the new dataframe\n",
    "df = df.reset_index(drop=True)"
   ]
  },
  {
   "cell_type": "code",
   "execution_count": 4,
   "id": "06cf7659",
   "metadata": {},
   "outputs": [
    {
     "data": {
      "text/html": [
       "<div>\n",
       "<style scoped>\n",
       "    .dataframe tbody tr th:only-of-type {\n",
       "        vertical-align: middle;\n",
       "    }\n",
       "\n",
       "    .dataframe tbody tr th {\n",
       "        vertical-align: top;\n",
       "    }\n",
       "\n",
       "    .dataframe thead th {\n",
       "        text-align: right;\n",
       "    }\n",
       "</style>\n",
       "<table border=\"1\" class=\"dataframe\">\n",
       "  <thead>\n",
       "    <tr style=\"text-align: right;\">\n",
       "      <th></th>\n",
       "      <th>title</th>\n",
       "      <th>text</th>\n",
       "      <th>subject</th>\n",
       "      <th>date</th>\n",
       "      <th>RealNews</th>\n",
       "    </tr>\n",
       "  </thead>\n",
       "  <tbody>\n",
       "    <tr>\n",
       "      <th>0</th>\n",
       "      <td>Al Gore says Trump driving, not weakening, cli...</td>\n",
       "      <td>LONDON (Reuters) - Former U.S. Vice President ...</td>\n",
       "      <td>politicsNews</td>\n",
       "      <td>August 11, 2017</td>\n",
       "      <td>True</td>\n",
       "    </tr>\n",
       "    <tr>\n",
       "      <th>1</th>\n",
       "      <td>Vietnam gives thumbs-up to U.S. regional role ...</td>\n",
       "      <td>HANOI (Reuters) - Vietnam supports U.S. “inter...</td>\n",
       "      <td>politicsNews</td>\n",
       "      <td>October 18, 2016</td>\n",
       "      <td>True</td>\n",
       "    </tr>\n",
       "    <tr>\n",
       "      <th>2</th>\n",
       "      <td>U.S. Commerce chief warns against China semico...</td>\n",
       "      <td>WASHINGTON (Reuters) - Massive government inve...</td>\n",
       "      <td>politicsNews</td>\n",
       "      <td>November 3, 2016</td>\n",
       "      <td>True</td>\n",
       "    </tr>\n",
       "    <tr>\n",
       "      <th>3</th>\n",
       "      <td>Trump on Twitter (Aug 14) - Luther Strange, Me...</td>\n",
       "      <td>The following statements were posted to the ve...</td>\n",
       "      <td>politicsNews</td>\n",
       "      <td>August 14, 2017</td>\n",
       "      <td>True</td>\n",
       "    </tr>\n",
       "    <tr>\n",
       "      <th>4</th>\n",
       "      <td>Pentagon confirms 'probable' North Korean miss...</td>\n",
       "      <td>WASHINGTON (Reuters) - The Pentagon said on Tu...</td>\n",
       "      <td>worldnews</td>\n",
       "      <td>November 28, 2017</td>\n",
       "      <td>True</td>\n",
       "    </tr>\n",
       "  </tbody>\n",
       "</table>\n",
       "</div>"
      ],
      "text/plain": [
       "                                               title  \\\n",
       "0  Al Gore says Trump driving, not weakening, cli...   \n",
       "1  Vietnam gives thumbs-up to U.S. regional role ...   \n",
       "2  U.S. Commerce chief warns against China semico...   \n",
       "3  Trump on Twitter (Aug 14) - Luther Strange, Me...   \n",
       "4  Pentagon confirms 'probable' North Korean miss...   \n",
       "\n",
       "                                                text       subject  \\\n",
       "0  LONDON (Reuters) - Former U.S. Vice President ...  politicsNews   \n",
       "1  HANOI (Reuters) - Vietnam supports U.S. “inter...  politicsNews   \n",
       "2  WASHINGTON (Reuters) - Massive government inve...  politicsNews   \n",
       "3  The following statements were posted to the ve...  politicsNews   \n",
       "4  WASHINGTON (Reuters) - The Pentagon said on Tu...     worldnews   \n",
       "\n",
       "                 date  RealNews  \n",
       "0    August 11, 2017       True  \n",
       "1   October 18, 2016       True  \n",
       "2   November 3, 2016       True  \n",
       "3    August 14, 2017       True  \n",
       "4  November 28, 2017       True  "
      ]
     },
     "execution_count": 4,
     "metadata": {},
     "output_type": "execute_result"
    }
   ],
   "source": [
    "df.head()"
   ]
  },
  {
   "cell_type": "code",
   "execution_count": 5,
   "id": "946f721f",
   "metadata": {},
   "outputs": [],
   "source": [
    "df = df[df['text'].str.strip() != '']"
   ]
  },
  {
   "cell_type": "code",
   "execution_count": 6,
   "id": "42d83220",
   "metadata": {},
   "outputs": [],
   "source": [
    "# Split the dataset\n",
    "train_df, test_df = train_test_split(df, test_size=0.2, random_state=42)\n",
    "train_df, val_df = train_test_split(train_df, test_size=0.25, random_state=42)"
   ]
  },
  {
   "cell_type": "code",
   "execution_count": 7,
   "id": "bfe41ede",
   "metadata": {},
   "outputs": [],
   "source": [
    "# Example for few-shot training\n",
    "def prepare_training_examples(n):\n",
    "    examples = train_df.head(n)[['text', 'RealNews']]\n",
    "    formatted_examples = \"\"\n",
    "    for index, row in examples.iterrows():\n",
    "        formatted_examples += f\"Text: {row['text']}\\nRealNews: {row['RealNews']}\\n\\n\"\n",
    "    return formatted_examples"
   ]
  },
  {
   "cell_type": "code",
   "execution_count": 8,
   "id": "aa8239ff",
   "metadata": {},
   "outputs": [],
   "source": [
    "# Generate prompt function\n",
    "def generate_prompt(n, row):\n",
    "    formatted_training_examples = prepare_training_examples(n)\n",
    "    formatted_validation_example = f\"Text: {row['text']}\\nRealNews: \"\n",
    "    prompt = formatted_training_examples + formatted_validation_example\n",
    "    return prompt"
   ]
  },
  {
   "cell_type": "code",
   "execution_count": 9,
   "id": "612cc2e9",
   "metadata": {},
   "outputs": [
    {
     "data": {
      "text/plain": [
       "GPT2LMHeadModel(\n",
       "  (transformer): GPT2Model(\n",
       "    (wte): Embedding(50257, 768)\n",
       "    (wpe): Embedding(1024, 768)\n",
       "    (drop): Dropout(p=0.1, inplace=False)\n",
       "    (h): ModuleList(\n",
       "      (0-11): 12 x GPT2Block(\n",
       "        (ln_1): LayerNorm((768,), eps=1e-05, elementwise_affine=True)\n",
       "        (attn): GPT2Attention(\n",
       "          (c_attn): Conv1D()\n",
       "          (c_proj): Conv1D()\n",
       "          (attn_dropout): Dropout(p=0.1, inplace=False)\n",
       "          (resid_dropout): Dropout(p=0.1, inplace=False)\n",
       "        )\n",
       "        (ln_2): LayerNorm((768,), eps=1e-05, elementwise_affine=True)\n",
       "        (mlp): GPT2MLP(\n",
       "          (c_fc): Conv1D()\n",
       "          (c_proj): Conv1D()\n",
       "          (act): NewGELUActivation()\n",
       "          (dropout): Dropout(p=0.1, inplace=False)\n",
       "        )\n",
       "      )\n",
       "    )\n",
       "    (ln_f): LayerNorm((768,), eps=1e-05, elementwise_affine=True)\n",
       "  )\n",
       "  (lm_head): Linear(in_features=768, out_features=50257, bias=False)\n",
       ")"
      ]
     },
     "execution_count": 9,
     "metadata": {},
     "output_type": "execute_result"
    }
   ],
   "source": [
    "# Load GPT-2 model and tokenizer\n",
    "tokenizer = GPT2Tokenizer.from_pretrained(\"gpt2\")\n",
    "model = GPT2LMHeadModel.from_pretrained(\"gpt2\")\n",
    "model.eval()"
   ]
  },
  {
   "cell_type": "code",
   "execution_count": 10,
   "id": "81fcb92a",
   "metadata": {},
   "outputs": [],
   "source": [
    "# GPT text generation function\n",
    "def generate_words(prompt):\n",
    "    max_length = model.config.n_positions\n",
    "    inputs = tokenizer.encode(prompt, return_tensors=\"pt\", max_length=max_length, truncation=True)\n",
    "    \n",
    "    with torch.no_grad():\n",
    "        outputs = model(inputs, return_dict=True)\n",
    "        logits = outputs.logits\n",
    "\n",
    "    true_token_id = tokenizer.encode(\"True\", add_special_tokens=False)[0]\n",
    "    false_token_id = tokenizer.encode(\"False\", add_special_tokens=False)[0]\n",
    "\n",
    "    true_logits = logits[0, -1, true_token_id].item()\n",
    "    false_logits = logits[0, -1, false_token_id].item()\n",
    "\n",
    "    if true_logits > false_logits:\n",
    "        return 1\n",
    "    else:\n",
    "        return 0"
   ]
  },
  {
   "cell_type": "code",
   "execution_count": 11,
   "id": "cfdf0735",
   "metadata": {},
   "outputs": [],
   "source": [
    "# Score function\n",
    "def score(n, dataset):\n",
    "    y_true = []\n",
    "    y_pred = []\n",
    "    for index, row in dataset.iterrows():\n",
    "        prompt = generate_prompt(n, row)\n",
    "        prediction = generate_words(prompt)\n",
    "        y_true.append(row['RealNews'])\n",
    "        y_pred.append(int(prediction))\n",
    "        \n",
    "    y_true = [1 if value == 'True' else 0 for value in y_true]\n",
    "    f1 = f1_score(y_true, y_pred, average='weighted')\n",
    "    return f1"
   ]
  },
  {
   "cell_type": "code",
   "execution_count": 12,
   "id": "de1a4ddc",
   "metadata": {
    "scrolled": false
   },
   "outputs": [
    {
     "name": "stdout",
     "output_type": "stream",
     "text": [
      "F1 score for n=1: 0.888888888888889\n",
      "F1 score for n=2: 0.9473684210526316\n",
      "F1 score for n=3: 0.6666666666666666\n"
     ]
    }
   ],
   "source": [
    "# Call the score function using validation set\n",
    "for n in range(1, 4):\n",
    "    f1 = score(n, val_df)\n",
    "    print(f\"F1 score for n={n}: {f1}\")"
   ]
  },
  {
   "cell_type": "markdown",
   "id": "a0ce3e95",
   "metadata": {},
   "source": [
    "In few-shot learning,  provide a small number of examples to the model to demonstrate the task. I use the range from 1-3 here.\n",
    "\n",
    "When increasing the value of n, more examples for the model to learn from. This can potentially improve the model's understanding of the task, leading to better predictions. However, there's a trade-off. If n is too large, it might result in overfitting, which would cause the model to perform poorly on unseen examples. Conversely, if n is too small, the model may not have enough information to understand the task effectively.\n",
    "\n",
    "Therefore, based on the results of the validation set, I choose n = 2."
   ]
  },
  {
   "cell_type": "code",
   "execution_count": 14,
   "id": "307a087a",
   "metadata": {},
   "outputs": [
    {
     "name": "stdout",
     "output_type": "stream",
     "text": [
      "F1 score on test set for n=2: 0.8571428571428571\n"
     ]
    }
   ],
   "source": [
    "# Call the sort function for test set\n",
    "n = 2\n",
    "test_f1 = score(n, test_df)\n",
    "print(f\"F1 score on test set for n={n}: {test_f1}\")"
   ]
  },
  {
   "cell_type": "code",
   "execution_count": null,
   "id": "f707a2c1",
   "metadata": {},
   "outputs": [],
   "source": []
  }
 ],
 "metadata": {
  "kernelspec": {
   "display_name": "Python 3",
   "language": "python",
   "name": "python3"
  },
  "language_info": {
   "codemirror_mode": {
    "name": "ipython",
    "version": 3
   },
   "file_extension": ".py",
   "mimetype": "text/x-python",
   "name": "python",
   "nbconvert_exporter": "python",
   "pygments_lexer": "ipython3",
   "version": "3.7.4"
  }
 },
 "nbformat": 4,
 "nbformat_minor": 5
}
